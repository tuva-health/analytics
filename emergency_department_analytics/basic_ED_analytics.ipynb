{
 "cells": [
  {
   "cell_type": "code",
   "execution_count": null,
   "id": "08716f3b-9ab9-44ef-925e-703765fe5d36",
   "metadata": {},
   "outputs": [],
   "source": [
    "import pandas as pd"
   ]
  },
  {
   "cell_type": "code",
   "execution_count": null,
   "id": "d1326cd9-0f1e-411a-b3ae-8b7db8faed67",
   "metadata": {},
   "outputs": [],
   "source": [
    "df = pd.read_csv(\"all_ed_encounters.csv\", low_memory=False)"
   ]
  },
  {
   "cell_type": "code",
   "execution_count": null,
   "id": "004e9540-ba51-49f2-bff3-23dbd2081d7e",
   "metadata": {},
   "outputs": [],
   "source": [
    "df.columns"
   ]
  },
  {
   "cell_type": "code",
   "execution_count": null,
   "id": "7be0ba4e-2580-4bb7-bbbc-28f7d1908635",
   "metadata": {},
   "outputs": [],
   "source": [
    "# Total ED encounters:\n",
    "df.shape"
   ]
  },
  {
   "cell_type": "code",
   "execution_count": null,
   "id": "3928e9c5-e837-4582-b3a2-d94e439ce163",
   "metadata": {},
   "outputs": [],
   "source": [
    "# Percent of ED encounters that are standalone ED encounters (did not lead to inpatient admission):\n",
    "df[df[\"SOLO_ED_ENCOUNTER\"] == 1].shape[0] / df.shape[0] * 100"
   ]
  },
  {
   "cell_type": "code",
   "execution_count": null,
   "id": "f94b3bee-4b1d-44f1-be4e-bcd5b7c341f7",
   "metadata": {},
   "outputs": [],
   "source": [
    "# Percet of ED encounters that led to inpatient admission:\n",
    "df[df[\"SOLO_ED_ENCOUNTER\"] == 0].shape[0] / df.shape[0] * 100"
   ]
  },
  {
   "cell_type": "code",
   "execution_count": null,
   "id": "d0c4ae84-5ca3-4dc7-bb70-6c1f2acc5303",
   "metadata": {},
   "outputs": [],
   "source": [
    "# Get percentage distribution of encounter_type for all ED encounters that led to inpatient admission:\n",
    "percent_table = df[df[\"SOLO_ED_ENCOUNTER\"] == 0][\"ENCOUNTER_TYPE\"].value_counts(normalize=True) * 100\n",
    "\n",
    "print(percent_table)"
   ]
  },
  {
   "cell_type": "code",
   "execution_count": null,
   "id": "f9ffb763-f4b7-4906-a628-04d2614a2992",
   "metadata": {},
   "outputs": [],
   "source": [
    "# Bar plot of encounter_tyep for all ED encounters that led to inpatient admission:\n",
    "import matplotlib.pyplot as plt\n",
    "\n",
    "df[df[\"SOLO_ED_ENCOUNTER\"] == 0][\"ENCOUNTER_TYPE\"].value_counts().plot(kind=\"bar\")\n",
    "\n",
    "plt.xlabel(\"Encounter Type\")\n",
    "plt.ylabel(\"Count\")\n",
    "plt.title(\"Distribution of Encounter Types\")\n",
    "plt.show()"
   ]
  },
  {
   "cell_type": "code",
   "execution_count": null,
   "id": "e0825efa-92d1-4115-a58b-8ea1a53d6a64",
   "metadata": {},
   "outputs": [],
   "source": [
    "# Get percentage distribution of length of stay for all standalone ED encounters:\n",
    "percent_table = df[df[\"SOLO_ED_ENCOUNTER\"] == 1][\"LENGTH_OF_STAY\"].value_counts(normalize=True) * 100\n",
    "\n",
    "print(percent_table)"
   ]
  },
  {
   "cell_type": "code",
   "execution_count": null,
   "id": "009bbaa0-9ce9-4f99-acbe-7754c4f23f04",
   "metadata": {},
   "outputs": [],
   "source": [
    "# Percent of standalone ED encounters where an ambulance was used:\n",
    "df[df[\"SOLO_ED_ENCOUNTER\"] == 1][df[df[\"SOLO_ED_ENCOUNTER\"] == 1][\"AMBULANCE_FLAG\"] == 1].shape[0] * 100 / df[df[\"SOLO_ED_ENCOUNTER\"] == 1].shape[0]"
   ]
  },
  {
   "cell_type": "code",
   "execution_count": null,
   "id": "f845dbc8-b6af-49df-bbdc-7aef9251457c",
   "metadata": {},
   "outputs": [],
   "source": [
    "# Percent of standalone ED encounters where an ambulance was NOT used:\n",
    "df[df[\"SOLO_ED_ENCOUNTER\"] == 1][df[df[\"SOLO_ED_ENCOUNTER\"] == 1][\"AMBULANCE_FLAG\"] == 0].shape[0] * 100 / df[df[\"SOLO_ED_ENCOUNTER\"] == 1].shape[0]"
   ]
  },
  {
   "cell_type": "code",
   "execution_count": null,
   "id": "143764a2-82f2-448a-9e2a-d70165e507ce",
   "metadata": {},
   "outputs": [],
   "source": [
    "# Percent of ED encounters with inpatient admission where an ambulance was used:\n",
    "df[df[\"SOLO_ED_ENCOUNTER\"] == 0][df[df[\"SOLO_ED_ENCOUNTER\"] == 0][\"AMBULANCE_FLAG\"] == 1].shape[0] * 100 / df[df[\"SOLO_ED_ENCOUNTER\"] == 0].shape[0]"
   ]
  },
  {
   "cell_type": "code",
   "execution_count": null,
   "id": "f598e5a4-d78d-46ef-b472-d5defd26065c",
   "metadata": {},
   "outputs": [],
   "source": [
    "# Percent of ED encounters with inpatient admission where an ambulance was NOT used:\n",
    "df[df[\"SOLO_ED_ENCOUNTER\"] == 0][df[df[\"SOLO_ED_ENCOUNTER\"] == 0][\"AMBULANCE_FLAG\"] == 0].shape[0] * 100 / df[df[\"SOLO_ED_ENCOUNTER\"] == 0].shape[0]"
   ]
  },
  {
   "cell_type": "code",
   "execution_count": null,
   "id": "e786200e-4eb2-454c-908b-97882db2e68f",
   "metadata": {},
   "outputs": [],
   "source": [
    "# Read in \"ed_encounters_by_year_month_pkpy.csv\":\n",
    "df = pd.read_csv(\"ed_encounters_by_year_month_pkpy.csv\", low_memory=False)\n",
    "df"
   ]
  },
  {
   "cell_type": "code",
   "execution_count": null,
   "id": "e3bb3a9f-243b-4443-a3ce-76610b7bae50",
   "metadata": {},
   "outputs": [],
   "source": [
    "# Read in \"metrics_for_the_whole_time_period.csv\":\n",
    "df = pd.read_csv(\"metrics_for_the_whole_time_period.csv\", low_memory=False)\n",
    "df"
   ]
  },
  {
   "cell_type": "code",
   "execution_count": null,
   "id": "27e87fb2-195f-41ef-ad50-539253bd1082",
   "metadata": {},
   "outputs": [],
   "source": [
    "select year_month, member_months, emergency_department_paid\n",
    "from financial_pmpm.pmpm_payer\n",
    "order by year_month"
   ]
  },
  {
   "cell_type": "markdown",
   "id": "707e444d-2cde-4e84-974a-caef668272a2",
   "metadata": {},
   "source": [
    "---\n",
    "\n",
    "### ED Spend PMPM\n",
    "In the Tuva Data Model, the financial_pmpm mart gives us ED spend PMPM trending over time, for example we may write the following query and save the output to a file called pmpm_payer.csv:\n",
    "\n",
    "```sql\n",
    "select year_month, member_months, emergency_department_paid\n",
    "from financial_pmpm.pmpm_payer\n",
    "order by year_month;"
   ]
  },
  {
   "cell_type": "code",
   "execution_count": null,
   "id": "0ee849b4-5f83-4525-9721-94501c7b3b6e",
   "metadata": {},
   "outputs": [],
   "source": [
    "# Read in the output of the above query:\n",
    "df = pd.read_csv(\"pmpm_payer.csv\", low_memory=False)\n",
    "df"
   ]
  }
 ],
 "metadata": {
  "kernelspec": {
   "display_name": "Python 3 (ipykernel)",
   "language": "python",
   "name": "python3"
  },
  "language_info": {
   "codemirror_mode": {
    "name": "ipython",
    "version": 3
   },
   "file_extension": ".py",
   "mimetype": "text/x-python",
   "name": "python",
   "nbconvert_exporter": "python",
   "pygments_lexer": "ipython3",
   "version": "3.13.5"
  }
 },
 "nbformat": 4,
 "nbformat_minor": 5
}
